{
 "cells": [
  {
   "cell_type": "code",
   "execution_count": 3,
   "metadata": {
    "collapsed": false
   },
   "outputs": [
    {
     "data": {
      "text/html": [
       "\n",
       "        <iframe\n",
       "            width=\"400\"\n",
       "            height=\"400\"\n",
       "            src=\"Net.html\"\n",
       "            frameborder=\"0\"\n",
       "            allowfullscreen\n",
       "        ></iframe>\n",
       "        "
      ],
      "text/plain": [
       "<IPython.lib.display.IFrame at 0x10a097dd0>"
      ]
     },
     "execution_count": 3,
     "metadata": {},
     "output_type": "execute_result"
    }
   ],
   "source": [
    "import networkx as nx\n",
    "from NetworkxD3.NetworkxD3 import simpleNetworkx\n",
    "from IPython.display import IFrame \n",
    "\n",
    "G = nx.Graph()\n",
    "H = [\"A\",\"B\",\"C\",\"D\",\"E\",\"F\",\"G\", \"H\",\"I\",\"J\"]\n",
    "G.add_nodes_from(H)\n",
    "G.add_edges_from([(\"A\",\"B\"), (\"A\",\"C\"), (\"A\",\"D\"), (\"A\",\"J\"), (\"B\",\"E\"), (\"B\",\"F\"),\n",
    "(\"C\",\"G\"),(\"C\",\"H\"), (\"D\",\"I\")])\n",
    "\n",
    "simpleNetworkx(G)\n",
    "IFrame('Net.html', width=400, height=400)"
   ]
  },
  {
   "cell_type": "code",
   "execution_count": null,
   "metadata": {
    "collapsed": true
   },
   "outputs": [],
   "source": []
  }
 ],
 "metadata": {
  "kernelspec": {
   "display_name": "Python 2",
   "language": "python",
   "name": "python2"
  },
  "language_info": {
   "codemirror_mode": {
    "name": "ipython",
    "version": 2
   },
   "file_extension": ".py",
   "mimetype": "text/x-python",
   "name": "python",
   "nbconvert_exporter": "python",
   "pygments_lexer": "ipython2",
   "version": "2.7.10"
  }
 },
 "nbformat": 4,
 "nbformat_minor": 0
}
